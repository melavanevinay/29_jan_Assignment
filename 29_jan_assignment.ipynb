{
 "cells": [
  {
   "cell_type": "markdown",
   "id": "060d2dd0-ebd1-4c02-9ba1-7c89c27b302e",
   "metadata": {},
   "source": [
    "# Assignment No 1"
   ]
  },
  {
   "cell_type": "markdown",
   "id": "091053cc-8b95-4e66-bbf4-732adbb4b713",
   "metadata": {},
   "source": [
    "## QUE. 1 Who developed python programming language ? "
   ]
  },
  {
   "cell_type": "markdown",
   "id": "9f38d682-f88e-4591-8591-f9b8a0130e10",
   "metadata": {},
   "source": [
    "### Guido van Rossum invented python."
   ]
  },
  {
   "cell_type": "markdown",
   "id": "a5138a43-85b0-4d24-ad65-6b51e5fdb639",
   "metadata": {},
   "source": [
    "## QUE. 2 Which type of programming language the python supports ?"
   ]
  },
  {
   "cell_type": "markdown",
   "id": "58d23fb0-a4d8-4108-8fa0-f20e6e3ccca9",
   "metadata": {},
   "source": [
    "###  It supports multiple programming paradigms beyond object-oriented programming, such as procedural and functional programming."
   ]
  },
  {
   "cell_type": "markdown",
   "id": "a890428a-7434-491e-84cc-3b41fd34ca10",
   "metadata": {},
   "source": [
    "## QUE. 3 Is python is case sensitive while dealing with identifiers ?"
   ]
  },
  {
   "cell_type": "markdown",
   "id": "2f833be9-fae2-4deb-bec4-3d818d4ca0b9",
   "metadata": {},
   "source": [
    "### Yes, Python is a case−sensitive programming language. it considers uppercase and lowercase letters differently."
   ]
  },
  {
   "cell_type": "markdown",
   "id": "7d8de8bd-06ec-409d-b07a-9d9c7b4bb984",
   "metadata": {},
   "source": [
    "## QUE. 4 What is correct extension of python file ?"
   ]
  },
  {
   "cell_type": "markdown",
   "id": "b9f1ba69-15c8-4222-ac36-add502b501de",
   "metadata": {},
   "source": [
    "### \".pyc\" This is the file extension for compiled Python code files."
   ]
  },
  {
   "cell_type": "markdown",
   "id": "c6d95960-3463-4436-b0d9-191f3f2d7ae8",
   "metadata": {},
   "source": [
    "## QUE. 5 Is python code is compiled or interpreted ?"
   ]
  },
  {
   "cell_type": "markdown",
   "id": "447b9410-30e9-4251-b60f-73c813495670",
   "metadata": {},
   "source": [
    "### Python is an interpreted language, which means the source code of a Python program is converted into bytecode that is then executed by the Python virtual machine"
   ]
  },
  {
   "cell_type": "markdown",
   "id": "b0d0045c-846a-4212-8a4a-195a11445e51",
   "metadata": {},
   "source": [
    "## QUE. 6 Name a few blocks of code used to define in python language."
   ]
  },
  {
   "cell_type": "markdown",
   "id": "4f558883-1f9e-436f-906c-264065ff1ad9",
   "metadata": {},
   "source": [
    "### a module, a function body, and a class definition. "
   ]
  },
  {
   "cell_type": "markdown",
   "id": "73b7253f-47c8-4b8a-8033-663fba8d2d51",
   "metadata": {},
   "source": [
    "## QUE. 7 State a character used to give single line comments in python ?\n"
   ]
  },
  {
   "cell_type": "markdown",
   "id": "6ee6dba2-e98b-44ee-9010-88127b32a667",
   "metadata": {},
   "source": [
    "### \"#\" Hash character is used to give single line comments in python."
   ]
  },
  {
   "cell_type": "markdown",
   "id": "72b758bf-706b-41e3-8df5-640832ce759e",
   "metadata": {},
   "source": [
    "## QUE. 8 Mension the functions which help us to find out the version of python that we are currently working ?"
   ]
  },
  {
   "cell_type": "markdown",
   "id": "0ccf9889-73f5-4bd4-8202-2c9b65afbe0d",
   "metadata": {},
   "source": [
    "### The function 'sys. version' can help us to find the version of python that we are currently working on."
   ]
  },
  {
   "cell_type": "markdown",
   "id": "6931fde6-bb64-4256-94c4-5d0b04753aa6",
   "metadata": {},
   "source": [
    "## QUE 9 Python supports the anonymous function at runtime using construct called ________"
   ]
  },
  {
   "cell_type": "markdown",
   "id": "27ead561-e661-4264-8b0d-4c62ae3efd30",
   "metadata": {},
   "source": [
    "### lambda function.\n"
   ]
  },
  {
   "cell_type": "markdown",
   "id": "0f9765d3-c0ac-409e-9d26-59e13c3634ac",
   "metadata": {},
   "source": [
    "## QUE. 10 What does pip stands for python?"
   ]
  },
  {
   "cell_type": "markdown",
   "id": "2a1da099-2674-4941-93b5-071b8aff9da2",
   "metadata": {},
   "source": [
    "### The standard tool for installing Python packages and their dependencies in a secure manner."
   ]
  },
  {
   "cell_type": "markdown",
   "id": "be947f74-d746-415e-876b-11aa7fe791ea",
   "metadata": {},
   "source": [
    "## QUE. 11 Mension few built in functions in python."
   ]
  },
  {
   "cell_type": "markdown",
   "id": "6e535267-0094-48c0-bffb-9dbd76cdd7f2",
   "metadata": {},
   "source": [
    "### list(), tuple(), dict(), all(), range(), len(), bool(), float(), max(), min(), upper(), lower(), etc"
   ]
  },
  {
   "cell_type": "markdown",
   "id": "eeab4491-4b5a-44b9-9f0d-e7263ac2aa25",
   "metadata": {},
   "source": [
    "## QUE. 12 What is maximum possible length of identifier in python?"
   ]
  },
  {
   "cell_type": "markdown",
   "id": "0e4d55b6-3c93-4a7b-a1e7-bb4707cfca3b",
   "metadata": {},
   "source": [
    "### An identifier can have a maximum length of 79 characters in Python."
   ]
  },
  {
   "cell_type": "markdown",
   "id": "b15780fc-1a25-497f-9dfc-fc5992929773",
   "metadata": {},
   "source": [
    "## OUE 13 What are benefits of using python?"
   ]
  },
  {
   "cell_type": "markdown",
   "id": "8befd06d-5ef6-4219-af39-6ec3d4cfec69",
   "metadata": {},
   "source": [
    "### 1. Simple to use and understand.\n",
    "### 2. Free and open source.\n",
    "### 3. Increased productivity.\n",
    "### 4. Extensive Liabrary:\n",
    "###   Python has husge number of libraries.\n"
   ]
  },
  {
   "cell_type": "markdown",
   "id": "9c5ab8b1-62a0-4b96-8c54-d7758a4b9a89",
   "metadata": {},
   "source": [
    "## QUE 14 How memory is managed in python."
   ]
  },
  {
   "cell_type": "markdown",
   "id": "1f92ff72-995e-4dae-944f-e4b5a5d2cdc0",
   "metadata": {},
   "source": [
    "### Memory management in Python involves a private heap containing all Python objects and data structures. The management of this private heap is ensured internally by the Python memory manager."
   ]
  },
  {
   "cell_type": "markdown",
   "id": "6d6465b8-f7c7-4416-8de8-c87f307c9a83",
   "metadata": {},
   "source": [
    "## QUE 15 How to install python on windows and set path variables?"
   ]
  },
  {
   "cell_type": "markdown",
   "id": "a009b2f8-1d5e-45ab-ada6-806360d6a18e",
   "metadata": {},
   "source": [
    "### The complete path of python.exe can be added by:\n",
    "\n",
    "### 1. Right-clicking This PC and going to Properties.\n",
    "\n",
    "### 2. Clicking on the Advanced system settings in the menu on the left.\n",
    "\n",
    "### 3. Clicking on the Environment Variables button on the bottom right.\n",
    "\n",
    "### 4. In the System variables section, selecting the Path variable and clicking on Edit. The next screen will show all the directories that are currently a part of the PATH variab le.\n",
    "\n",
    "### 5. Clicking on New and entering Python’s install directory."
   ]
  },
  {
   "cell_type": "markdown",
   "id": "324b6e7e-0ca8-45b9-87a7-90e236a014f3",
   "metadata": {},
   "source": [
    "## QUE 16. Is indentation required in python?\n"
   ]
  },
  {
   "cell_type": "markdown",
   "id": "335dfdba-a7d7-4873-9689-dd056f54ac4c",
   "metadata": {},
   "source": [
    "### Indentation is important to Python, because it's how to determine scope. Scope is how Python knows what code belongs to what part of the program."
   ]
  },
  {
   "cell_type": "code",
   "execution_count": null,
   "id": "b4e8a39e-05bf-4d7f-b25c-7e42e40e0d26",
   "metadata": {},
   "outputs": [],
   "source": []
  }
 ],
 "metadata": {
  "kernelspec": {
   "display_name": "Python 3 (ipykernel)",
   "language": "python",
   "name": "python3"
  },
  "language_info": {
   "codemirror_mode": {
    "name": "ipython",
    "version": 3
   },
   "file_extension": ".py",
   "mimetype": "text/x-python",
   "name": "python",
   "nbconvert_exporter": "python",
   "pygments_lexer": "ipython3",
   "version": "3.10.8"
  }
 },
 "nbformat": 4,
 "nbformat_minor": 5
}
